{
 "cells": [
  {
   "cell_type": "code",
   "execution_count": null,
   "metadata": {
    "execution": {
     "iopub.execute_input": "2025-09-07T15:27:56.345050Z",
     "iopub.status.busy": "2025-09-07T15:27:56.344557Z",
     "iopub.status.idle": "2025-09-07T15:28:15.292574Z",
     "shell.execute_reply": "2025-09-07T15:28:15.291738Z",
     "shell.execute_reply.started": "2025-09-07T15:27:56.345024Z"
    },
    "trusted": true
   },
   "outputs": [
    {
     "name": "stdout",
     "output_type": "stream",
     "text": [
      "\u001b[2K   \u001b[90m━━━━━━━━━━━━━━━━━━━━━━━━━━━━━━━━━━━━━━━━\u001b[0m \u001b[32m2.5/2.5 MB\u001b[0m \u001b[31m30.6 MB/s\u001b[0m eta \u001b[36m0:00:00\u001b[0m00:01\u001b[0m00:01\u001b[0m\n",
      "\u001b[2K   \u001b[90m━━━━━━━━━━━━━━━━━━━━━━━━━━━━━━━━━━━━━━━━\u001b[0m \u001b[32m1.0/1.0 MB\u001b[0m \u001b[31m33.0 MB/s\u001b[0m eta \u001b[36m0:00:00\u001b[0m\n",
      "\u001b[2K   \u001b[90m━━━━━━━━━━━━━━━━━━━━━━━━━━━━━━━━━━━━━━━━\u001b[0m \u001b[32m64.7/64.7 kB\u001b[0m \u001b[31m4.0 MB/s\u001b[0m eta \u001b[36m0:00:00\u001b[0m\n",
      "\u001b[2K   \u001b[90m━━━━━━━━━━━━━━━━━━━━━━━━━━━━━━━━━━━━━━━━\u001b[0m \u001b[32m302.0/302.0 kB\u001b[0m \u001b[31m17.0 MB/s\u001b[0m eta \u001b[36m0:00:00\u001b[0m\n",
      "\u001b[2K   \u001b[90m━━━━━━━━━━━━━━━━━━━━━━━━━━━━━━━━━━━━━━━━\u001b[0m \u001b[32m444.0/444.0 kB\u001b[0m \u001b[31m20.2 MB/s\u001b[0m eta \u001b[36m0:00:00\u001b[0m\n",
      "\u001b[2K   \u001b[90m━━━━━━━━━━━━━━━━━━━━━━━━━━━━━━━━━━━━━━━━\u001b[0m \u001b[32m45.2/45.2 kB\u001b[0m \u001b[31m2.4 MB/s\u001b[0m eta \u001b[36m0:00:00\u001b[0m\n",
      "\u001b[2K   \u001b[90m━━━━━━━━━━━━━━━━━━━━━━━━━━━━━━━━━━━━━━━━\u001b[0m \u001b[32m2.1/2.1 MB\u001b[0m \u001b[31m60.0 MB/s\u001b[0m eta \u001b[36m0:00:00\u001b[0m:00:01\u001b[0m\n",
      "\u001b[2K   \u001b[90m━━━━━━━━━━━━━━━━━━━━━━━━━━━━━━━━━━━━━━━━\u001b[0m \u001b[32m2.9/2.9 MB\u001b[0m \u001b[31m82.1 MB/s\u001b[0m eta \u001b[36m0:00:00\u001b[0m:00:01\u001b[0m\n",
      "\u001b[2K   \u001b[90m━━━━━━━━━━━━━━━━━━━━━━━━━━━━━━━━━━━━━━━━\u001b[0m \u001b[32m850.6/850.6 kB\u001b[0m \u001b[31m40.0 MB/s\u001b[0m eta \u001b[36m0:00:00\u001b[0m\n",
      "\u001b[?25h\u001b[31mERROR: pip's dependency resolver does not currently take into account all the packages that are installed. This behaviour is the source of the following dependency conflicts.\n",
      "bigframes 2.8.0 requires google-cloud-bigquery-storage<3.0.0,>=2.30.0, which is not installed.\n",
      "datasets 3.6.0 requires fsspec[http]<=2025.3.0,>=2023.1.0, but you have fsspec 2025.5.1 which is incompatible.\n",
      "google-colab 1.0.0 requires google-auth==2.38.0, but you have google-auth 2.40.3 which is incompatible.\n",
      "google-colab 1.0.0 requires notebook==6.5.7, but you have notebook 6.5.4 which is incompatible.\n",
      "google-colab 1.0.0 requires pandas==2.2.2, but you have pandas 2.2.3 which is incompatible.\n",
      "google-colab 1.0.0 requires requests==2.32.3, but you have requests 2.32.5 which is incompatible.\n",
      "google-colab 1.0.0 requires tornado==6.4.2, but you have tornado 6.5.1 which is incompatible.\n",
      "pandas-gbq 0.29.1 requires google-api-core<3.0.0,>=2.10.2, but you have google-api-core 1.34.1 which is incompatible.\n",
      "gcsfs 2025.3.2 requires fsspec==2025.3.2, but you have fsspec 2025.5.1 which is incompatible.\n",
      "google-cloud-storage 2.19.0 requires google-api-core<3.0.0dev,>=2.15.0, but you have google-api-core 1.34.1 which is incompatible.\n",
      "dataproc-spark-connect 0.7.5 requires google-api-core>=2.19, but you have google-api-core 1.34.1 which is incompatible.\n",
      "bigframes 2.8.0 requires google-cloud-bigquery[bqstorage,pandas]>=3.31.0, but you have google-cloud-bigquery 3.25.0 which is incompatible.\n",
      "bigframes 2.8.0 requires rich<14,>=12.4.4, but you have rich 14.0.0 which is incompatible.\n",
      "jupyter-kernel-gateway 2.5.2 requires jupyter-client<8.0,>=5.2.0, but you have jupyter-client 8.6.3 which is incompatible.\u001b[0m\u001b[31m\n",
      "\u001b[2K   \u001b[90m━━━━━━━━━━━━━━━━━━━━━━━━━━━━━━━━━━━━━━━━\u001b[0m \u001b[32m561.5/561.5 kB\u001b[0m \u001b[31m11.0 MB/s\u001b[0m eta \u001b[36m0:00:00\u001b[0ma \u001b[36m0:00:01\u001b[0m\n",
      "\u001b[?25h\u001b[31mERROR: pip's dependency resolver does not currently take into account all the packages that are installed. This behaviour is the source of the following dependency conflicts.\n",
      "datasets 3.6.0 requires fsspec[http]<=2025.3.0,>=2023.1.0, but you have fsspec 2025.5.1 which is incompatible.\u001b[0m\u001b[31m\n",
      "\u001b[0m"
     ]
    }
   ],
   "source": [
    "!pip install --quiet \"langchain\" \"langchain-community\" \"beautifulsoup4\" \"requests\" \"jinja2\" \"weasyprint\"\n",
    "!pip install -U --quiet langchain-huggingface\n",
    "!pip install -q gradio"
   ]
  },
  {
   "cell_type": "code",
   "execution_count": null,
   "metadata": {
    "execution": {
     "iopub.execute_input": "2025-09-07T15:28:15.294783Z",
     "iopub.status.busy": "2025-09-07T15:28:15.294450Z",
     "iopub.status.idle": "2025-09-07T15:31:39.247056Z",
     "shell.execute_reply": "2025-09-07T15:31:39.246364Z",
     "shell.execute_reply.started": "2025-09-07T15:28:15.294756Z"
    },
    "trusted": true
   },
   "outputs": [
    {
     "name": "stdout",
     "output_type": "stream",
     "text": [
      "\u001b[2K     \u001b[90m━━━━━━━━━━━━━━━━━━━━━━━━━━━━━━━━━━━━━━━━\u001b[0m \u001b[32m60.6/60.6 kB\u001b[0m \u001b[31m1.9 MB/s\u001b[0m eta \u001b[36m0:00:00\u001b[0m\n",
      "\u001b[2K     \u001b[90m━━━━━━━━━━━━━━━━━━━━━━━━━━━━━━━━━━━━━━━━\u001b[0m \u001b[32m43.8/43.8 kB\u001b[0m \u001b[31m2.5 MB/s\u001b[0m eta \u001b[36m0:00:00\u001b[0m\n",
      "\u001b[2K   \u001b[90m━━━━━━━━━━━━━━━━━━━━━━━━━━━━━━━━━━━━━━━━\u001b[0m \u001b[32m38.6/38.6 MB\u001b[0m \u001b[31m48.4 MB/s\u001b[0m eta \u001b[36m0:00:00\u001b[0m:00:01\u001b[0m00:01\u001b[0m\n",
      "\u001b[2K   \u001b[90m━━━━━━━━━━━━━━━━━━━━━━━━━━━━━━━━━━━━━━━━\u001b[0m \u001b[32m13.3/13.3 MB\u001b[0m \u001b[31m98.1 MB/s\u001b[0m eta \u001b[36m0:00:00\u001b[0m:00:01\u001b[0m0:01\u001b[0m\n",
      "\u001b[2K   \u001b[90m━━━━━━━━━━━━━━━━━━━━━━━━━━━━━━━━━━━━━━━━\u001b[0m \u001b[32m779.2/779.2 MB\u001b[0m \u001b[31m2.3 MB/s\u001b[0m eta \u001b[36m0:00:00\u001b[0m:00:01\u001b[0m00:01\u001b[0m\n",
      "\u001b[2K   \u001b[90m━━━━━━━━━━━━━━━━━━━━━━━━━━━━━━━━━━━━━━━━\u001b[0m \u001b[32m3.4/3.4 MB\u001b[0m \u001b[31m9.0 MB/s\u001b[0m eta \u001b[36m0:00:00\u001b[0m0:00:01\u001b[0m\n",
      "\u001b[2K   \u001b[90m━━━━━━━━━━━━━━━━━━━━━━━━━━━━━━━━━━━━━━━━\u001b[0m \u001b[32m7.0/7.0 MB\u001b[0m \u001b[31m103.5 MB/s\u001b[0m eta \u001b[36m0:00:00\u001b[0m00:01\u001b[0m\n",
      "\u001b[2K   \u001b[90m━━━━━━━━━━━━━━━━━━━━━━━━━━━━━━━━━━━━━━━━\u001b[0m \u001b[32m9.1/9.1 MB\u001b[0m \u001b[31m100.0 MB/s\u001b[0m eta \u001b[36m0:00:00\u001b[0m00:01\u001b[0m00:01\u001b[0m\n",
      "\u001b[2K   \u001b[90m━━━━━━━━━━━━━━━━━━━━━━━━━━━━━━━━━━━━━━━━\u001b[0m \u001b[32m302.6/302.6 kB\u001b[0m \u001b[31m16.8 MB/s\u001b[0m eta \u001b[36m0:00:00\u001b[0m\n",
      "\u001b[2K   \u001b[90m━━━━━━━━━━━━━━━━━━━━━━━━━━━━━━━━━━━━━━━━\u001b[0m \u001b[32m119.8/119.8 MB\u001b[0m \u001b[31m14.4 MB/s\u001b[0m eta \u001b[36m0:00:00\u001b[0m00:01\u001b[0m00:01\u001b[0m\n",
      "\u001b[2K   \u001b[90m━━━━━━━━━━━━━━━━━━━━━━━━━━━━━━━━━━━━━━━━\u001b[0m \u001b[32m2.0/2.0 MB\u001b[0m \u001b[31m58.5 MB/s\u001b[0m eta \u001b[36m0:00:00\u001b[0m:00:01\u001b[0m\n",
      "\u001b[2K   \u001b[90m━━━━━━━━━━━━━━━━━━━━━━━━━━━━━━━━━━━━━━━━\u001b[0m \u001b[32m401.7/401.7 kB\u001b[0m \u001b[31m17.0 MB/s\u001b[0m eta \u001b[36m0:00:00\u001b[0m\n",
      "\u001b[2K   \u001b[90m━━━━━━━━━━━━━━━━━━━━━━━━━━━━━━━━━━━━━━━━\u001b[0m \u001b[32m199.1/199.1 kB\u001b[0m \u001b[31m11.0 MB/s\u001b[0m eta \u001b[36m0:00:00\u001b[0m\n",
      "\u001b[2K   \u001b[90m━━━━━━━━━━━━━━━━━━━━━━━━━━━━━━━━━━━━━━━━\u001b[0m \u001b[32m410.6/410.6 MB\u001b[0m \u001b[31m3.7 MB/s\u001b[0m eta \u001b[36m0:00:00\u001b[0m:00:01\u001b[0m00:01\u001b[0m\n",
      "\u001b[2K   \u001b[90m━━━━━━━━━━━━━━━━━━━━━━━━━━━━━━━━━━━━━━━━\u001b[0m \u001b[32m14.1/14.1 MB\u001b[0m \u001b[31m5.4 MB/s\u001b[0m eta \u001b[36m0:00:00\u001b[0m0:00:01\u001b[0m00:01\u001b[0m\n",
      "\u001b[2K   \u001b[90m━━━━━━━━━━━━━━━━━━━━━━━━━━━━━━━━━━━━━━━━\u001b[0m \u001b[32m23.7/23.7 MB\u001b[0m \u001b[31m7.8 MB/s\u001b[0m eta \u001b[36m0:00:00\u001b[0m0:00:01\u001b[0m00:01\u001b[0m\n",
      "\u001b[2K   \u001b[90m━━━━━━━━━━━━━━━━━━━━━━━━━━━━━━━━━━━━━━━━\u001b[0m \u001b[32m823.6/823.6 kB\u001b[0m \u001b[31m37.6 MB/s\u001b[0m eta \u001b[36m0:00:00\u001b[0m\n",
      "\u001b[2K   \u001b[90m━━━━━━━━━━━━━━━━━━━━━━━━━━━━━━━━━━━━━━━━\u001b[0m \u001b[32m731.7/731.7 MB\u001b[0m \u001b[31m2.3 MB/s\u001b[0m eta \u001b[36m0:00:00\u001b[0m:00:01\u001b[0m00:01\u001b[0m\n",
      "\u001b[2K   \u001b[90m━━━━━━━━━━━━━━━━━━━━━━━━━━━━━━━━━━━━━━━━\u001b[0m \u001b[32m121.6/121.6 MB\u001b[0m \u001b[31m14.0 MB/s\u001b[0m eta \u001b[36m0:00:00\u001b[0m00:01\u001b[0m00:01\u001b[0m\n",
      "\u001b[2K   \u001b[90m━━━━━━━━━━━━━━━━━━━━━━━━━━━━━━━━━━━━━━━━\u001b[0m \u001b[32m56.5/56.5 MB\u001b[0m \u001b[31m30.3 MB/s\u001b[0m eta \u001b[36m0:00:00\u001b[0m:00:01\u001b[0m00:01\u001b[0m\n",
      "\u001b[2K   \u001b[90m━━━━━━━━━━━━━━━━━━━━━━━━━━━━━━━━━━━━━━━━\u001b[0m \u001b[32m124.2/124.2 MB\u001b[0m \u001b[31m9.5 MB/s\u001b[0m eta \u001b[36m0:00:00\u001b[0m:00:01\u001b[0m00:01\u001b[0m\n",
      "\u001b[2K   \u001b[90m━━━━━━━━━━━━━━━━━━━━━━━━━━━━━━━━━━━━━━━━\u001b[0m \u001b[32m196.0/196.0 MB\u001b[0m \u001b[31m8.8 MB/s\u001b[0m eta \u001b[36m0:00:00\u001b[0m:00:01\u001b[0m00:01\u001b[0m\n",
      "\u001b[2K   \u001b[90m━━━━━━━━━━━━━━━━━━━━━━━━━━━━━━━━━━━━━━━━\u001b[0m \u001b[32m176.2/176.2 MB\u001b[0m \u001b[31m8.8 MB/s\u001b[0m eta \u001b[36m0:00:00\u001b[0m:00:01\u001b[0m00:01\u001b[0m\n",
      "\u001b[2K   \u001b[90m━━━━━━━━━━━━━━━━━━━━━━━━━━━━━━━━━━━━━━━━\u001b[0m \u001b[32m99.1/99.1 kB\u001b[0m \u001b[31m83.4 kB/s\u001b[0m eta \u001b[36m0:00:00\u001b[0mta \u001b[36m0:00:01\u001b[0m\n",
      "\u001b[2K   \u001b[90m━━━━━━━━━━━━━━━━━━━━━━━━━━━━━━━━━━━━━━━━\u001b[0m \u001b[32m168.1/168.1 MB\u001b[0m \u001b[31m1.8 MB/s\u001b[0m eta \u001b[36m0:00:00\u001b[0m:00:01\u001b[0m00:01\u001b[0m\n",
      "\u001b[2K   \u001b[90m━━━━━━━━━━━━━━━━━━━━━━━━━━━━━━━━━━━━━━━━\u001b[0m \u001b[32m3.6/3.6 MB\u001b[0m \u001b[31m78.8 MB/s\u001b[0m eta \u001b[36m0:00:00\u001b[0m:00:01\u001b[0m\n",
      "\u001b[?25h\u001b[31mERROR: pip's dependency resolver does not currently take into account all the packages that are installed. This behaviour is the source of the following dependency conflicts.\n",
      "langchain-huggingface 0.3.1 requires huggingface-hub>=0.33.4, but you have huggingface-hub 0.23.2 which is incompatible.\n",
      "datasets 3.6.0 requires fsspec[http]<=2025.3.0,>=2023.1.0, but you have fsspec 2025.5.1 which is incompatible.\n",
      "datasets 3.6.0 requires huggingface-hub>=0.24.0, but you have huggingface-hub 0.23.2 which is incompatible.\n",
      "cesium 0.12.4 requires numpy<3.0,>=2.0, but you have numpy 1.26.4 which is incompatible.\n",
      "tsfresh 0.21.0 requires scipy>=1.14.0; python_version >= \"3.10\", but you have scipy 1.13.1 which is incompatible.\n",
      "dopamine-rl 4.1.2 requires gymnasium>=1.0.0, but you have gymnasium 0.29.0 which is incompatible.\n",
      "gradio 5.31.0 requires huggingface-hub>=0.28.1, but you have huggingface-hub 0.23.2 which is incompatible.\n",
      "plotnine 0.14.5 requires matplotlib>=3.8.0, but you have matplotlib 3.7.2 which is incompatible.\u001b[0m\u001b[31m\n",
      "\u001b[0m"
     ]
    }
   ],
   "source": [
    "!pip install --quiet \\\n",
    "    \"numpy==1.26.4\" \\\n",
    "    \"scipy==1.13.1\" \\\n",
    "    \"scikit-learn==1.5.0\" \\\n",
    "    \"torch==2.3.1\" \\\n",
    "    \"torchaudio==2.3.1\" \\\n",
    "    \"torchvision==0.18.1\" \\\n",
    "    \"transformers==4.41.2\" \\\n",
    "    \"accelerate==0.30.1\" \\\n",
    "    \"bitsandbytes==0.43.1\" \\\n",
    "    \"diffusers==0.27.2\" \\\n",
    "    \"huggingface_hub==0.23.2\" \\\n",
    "    \"peft==0.10.0\""
   ]
  },
  {
   "cell_type": "code",
   "execution_count": null,
   "metadata": {
    "_cell_guid": "b1076dfc-b9ad-4769-8c92-a6c4dae69d19",
    "_uuid": "8f2839f25d086af736a60e9eeb907d3b93b6e0e5",
    "execution": {
     "iopub.execute_input": "2025-09-07T15:32:55.363984Z",
     "iopub.status.busy": "2025-09-07T15:32:55.363367Z",
     "iopub.status.idle": "2025-09-07T15:33:24.040115Z",
     "shell.execute_reply": "2025-09-07T15:33:24.039529Z",
     "shell.execute_reply.started": "2025-09-07T15:32:55.363952Z"
    },
    "trusted": true
   },
   "outputs": [
    {
     "name": "stderr",
     "output_type": "stream",
     "text": [
      "2025-09-07 15:33:00.583786: E external/local_xla/xla/stream_executor/cuda/cuda_fft.cc:477] Unable to register cuFFT factory: Attempting to register factory for plugin cuFFT when one has already been registered\n",
      "WARNING: All log messages before absl::InitializeLog() is called are written to STDERR\n",
      "E0000 00:00:1757259180.944201      36 cuda_dnn.cc:8310] Unable to register cuDNN factory: Attempting to register factory for plugin cuDNN when one has already been registered\n",
      "E0000 00:00:1757259181.048434      36 cuda_blas.cc:1418] Unable to register cuBLAS factory: Attempting to register factory for plugin cuBLAS when one has already been registered\n"
     ]
    }
   ],
   "source": [
    "import os\n",
    "import gc\n",
    "\n",
    "import torch\n",
    "# import torch_xla\n",
    "# import torch_xla.core.xla_model as xm\n",
    "\n",
    "from transformers import AutoModelForCausalLM, AutoTokenizer, pipeline\n",
    "from diffusers import DiffusionPipeline\n",
    "\n",
    "from langchain_community.document_loaders import WebBaseLoader\n",
    "from langchain.chains.summarize import load_summarize_chain\n",
    "from langchain_huggingface import HuggingFacePipeline\n",
    "from langchain_text_splitters import RecursiveCharacterTextSplitter\n",
    "from langchain.prompts import PromptTemplate\n",
    "from langchain_core.documents import Document\n",
    "\n",
    "from jinja2 import Environment\n",
    "from weasyprint import HTML\n",
    "\n",
    "import gradio as gr"
   ]
  },
  {
   "cell_type": "code",
   "execution_count": null,
   "metadata": {
    "execution": {
     "iopub.execute_input": "2025-09-07T15:33:24.042059Z",
     "iopub.status.busy": "2025-09-07T15:33:24.041470Z",
     "iopub.status.idle": "2025-09-07T15:33:24.045905Z",
     "shell.execute_reply": "2025-09-07T15:33:24.045035Z",
     "shell.execute_reply.started": "2025-09-07T15:33:24.042038Z"
    },
    "trusted": true
   },
   "outputs": [],
   "source": [
    "HTML_TEMPLATE_STRING = \"\"\"\n",
    "<!DOCTYPE html>\n",
    "<html lang=\"en\">\n",
    "<head>\n",
    "    <meta charset=\"UTF-8\">\n",
    "    <meta name=\"viewport\" content=\"width=device-width, initial-scale=1.0\">\n",
    "    <title>{{ title }}</title>\n",
    "    <style>\n",
    "        body {\n",
    "            font-family: -apple-system, BlinkMacSystemFont, 'Segoe UI', Roboto, Helvetica, Arial, sans-serif;\n",
    "            line-height: 1.6;\n",
    "            color: #333;\n",
    "            max-width: 800px;\n",
    "            margin: 20px auto;\n",
    "            padding: 0 20px;\n",
    "            background-color: #f9f9f9;\n",
    "        }\n",
    "        .container {\n",
    "            background-color: #ffffff;\n",
    "            border: 1px solid #ddd;\n",
    "            border-radius: 8px;\n",
    "            padding: 40px;\n",
    "            box-shadow: 0 4px 8px rgba(0,0,0,0.05);\n",
    "        }\n",
    "        h1 {\n",
    "            color: #1a1a1a;\n",
    "            text-align: center;\n",
    "            font-size: 2.5em;\n",
    "            margin-bottom: 0.5em;\n",
    "        }\n",
    "        img.header-image {\n",
    "            max-width: 100%;\n",
    "            height: auto;\n",
    "            border-radius: 8px;\n",
    "            margin-bottom: 20px;\n",
    "            display: block;\n",
    "        }\n",
    "        .divider {\n",
    "            border: 0;\n",
    "            height: 1px;\n",
    "            background: #e0e0e0;\n",
    "            margin: 30px 0;\n",
    "        }\n",
    "        .content-columns {\n",
    "            display: flex;\n",
    "            gap: 20px; /* Space between the columns and the vertical line */\n",
    "        }\n",
    "        .column {\n",
    "            flex: 1; /* This makes both columns take up equal space */\n",
    "            min-width: 0; /* Prevents flexbox overflow */\n",
    "        }\n",
    "        .column.left {\n",
    "            padding-right: 20px;\n",
    "            border-right: 1px solid #e0e0e0; /* The vertical line */\n",
    "        }\n",
    "        p {\n",
    "            font-size: 1em;\n",
    "            text-align: justify;\n",
    "            /* This preserves newlines from the summary text, a cleaner way than replacing \\\\n */\n",
    "            white-space: pre-wrap; \n",
    "        }\n",
    "        .footer {\n",
    "            text-align: center;\n",
    "            margin-top: 40px;\n",
    "            font-size: 0.9em;\n",
    "            color: #888;\n",
    "        }\n",
    "    </style>\n",
    "</head>\n",
    "<body>\n",
    "    <div class=\"container\">\n",
    "        <h1>{{ title }}</h1>\n",
    "        <img src=\"{{ image_file }}\" alt=\"{{ title }} Header Image\" class=\"header-image\">\n",
    "        <hr class=\"divider\">\n",
    "        <div class=\"content-columns\">\n",
    "            <div class=\"column left\">\n",
    "                <p>{{ summary_left }}</p>\n",
    "            </div>\n",
    "            <div class=\"column right\">\n",
    "                <p>{{ summary_right }}</p>\n",
    "            </div>\n",
    "        </div>\n",
    "    </div>\n",
    "    <div class=\"footer\">\n",
    "        <p>Generated by AI Agent</p>\n",
    "    </div>\n",
    "</body>\n",
    "</html>\n",
    "\"\"\""
   ]
  },
  {
   "cell_type": "code",
   "execution_count": null,
   "metadata": {
    "execution": {
     "iopub.execute_input": "2025-09-07T15:33:24.046698Z",
     "iopub.status.busy": "2025-09-07T15:33:24.046521Z",
     "iopub.status.idle": "2025-09-07T15:33:24.153110Z",
     "shell.execute_reply": "2025-09-07T15:33:24.152241Z",
     "shell.execute_reply.started": "2025-09-07T15:33:24.046685Z"
    },
    "trusted": true
   },
   "outputs": [
    {
     "name": "stdout",
     "output_type": "stream",
     "text": [
      "We are now using= cuda\n"
     ]
    }
   ],
   "source": [
    "def clear_memory():\n",
    "    gc.collect()\n",
    "    if torch.cuda.is_available():\n",
    "        torch.cuda.empty_cache()\n",
    "\n",
    "# device = xm.xla_device()\n",
    "\n",
    "device = \"cuda\" if torch.cuda.is_available() else \"cpu\"\n",
    "print(f\"We are now using= {device}\")"
   ]
  },
  {
   "cell_type": "code",
   "execution_count": null,
   "metadata": {},
   "outputs": [],
   "source": [
    "path_qwen = \"/kaggle/input/qwen-3/transformers/14b-base/1\"\n",
    "path_sd = \"/kaggle/input/stable-diffusion-xl/pytorch/base-1-0/1\""
   ]
  },
  {
   "cell_type": "code",
   "execution_count": null,
   "metadata": {
    "execution": {
     "iopub.execute_input": "2025-09-07T16:03:43.746716Z",
     "iopub.status.busy": "2025-09-07T16:03:43.746426Z",
     "iopub.status.idle": "2025-09-07T16:03:43.751694Z",
     "shell.execute_reply": "2025-09-07T16:03:43.751140Z",
     "shell.execute_reply.started": "2025-09-07T16:03:43.746695Z"
    },
    "trusted": true
   },
   "outputs": [],
   "source": [
    "def scrape_from_web(urls = list, file_path = \"content.txt\"):\n",
    "    print(\"Step 1 initialized, Scraping content from the links\")\n",
    "\n",
    "    all_content = []\n",
    "\n",
    "    for url in urls:\n",
    "        try:\n",
    "            loader = WebBaseLoader(url)\n",
    "            docs = loader.load()\n",
    "    \n",
    "            content = \"\\n\".join([doc.page_content for doc in docs])\n",
    "            all_content.append(content)\n",
    "            print(f\"Successfully Scraped content from = {url}\")\n",
    "            \n",
    "        except Exception as e:\n",
    "            print(f\"Error scraping URL= {e}\")\n",
    "            continue\n",
    "\n",
    "    final_content = \"\\n\\n ++++ARTICLE SEPARATOR++++ \\n\\n\".join(all_content)\n",
    "\n",
    "    try:\n",
    "        with open(file_path, 'w', encoding=\"utf-8\") as f:\n",
    "                f.write(final_content)\n",
    "    \n",
    "        print(f\"Content saved to {file_path}\")\n",
    "        return final_content\n",
    "        \n",
    "    except Exception as e:\n",
    "        print(f\"Error writing to file: {e}\")\n",
    "        return None"
   ]
  },
  {
   "cell_type": "code",
   "execution_count": 27,
   "metadata": {
    "execution": {
     "iopub.execute_input": "2025-09-07T16:08:48.121767Z",
     "iopub.status.busy": "2025-09-07T16:08:48.121467Z",
     "iopub.status.idle": "2025-09-07T16:08:48.133449Z",
     "shell.execute_reply": "2025-09-07T16:08:48.132734Z",
     "shell.execute_reply.started": "2025-09-07T16:08:48.121745Z"
    },
    "trusted": true
   },
   "outputs": [],
   "source": [
    "def summarize(content_path = \"content.txt\", summary_path = \"summary.txt\", title_path = \"title.txt\", image_prompt_path = \"image_prompt.txt\"):\n",
    "    print(\"\\nStep 2 initialized, Summarizing content\")\n",
    "\n",
    "    model = None\n",
    "    tokenizer = None\n",
    "    pipe = None\n",
    "    llm = None\n",
    "    try:\n",
    "        with open(content_path, 'r', encoding=\"utf-8\") as f:\n",
    "            content = f.read()\n",
    "\n",
    "        model_id = \"microsoft/Phi-3-mini-128k-instruct\"\n",
    "\n",
    "        tokenizer = AutoTokenizer.from_pretrained(model_id, trust_remote_code=True)\n",
    "        model = AutoModelForCausalLM.from_pretrained(model_id, \n",
    "                                                     trust_remote_code=True, \n",
    "                                                     device_map=\"auto\", \n",
    "                                                     load_in_8bit=True\n",
    "                                                    )\n",
    "        \n",
    "        pipe = pipeline(\"text-generation\", \n",
    "                        model = model, \n",
    "                        tokenizer = tokenizer,\n",
    "                        max_new_tokens = 1200,\n",
    "                        eos_token_id = tokenizer.eos_token_id,\n",
    "                        do_sample = True,\n",
    "                        temperature = 0.8,\n",
    "                        repetition_penalty = 1.15\n",
    "                       )\n",
    "        \n",
    "        llm = HuggingFacePipeline(pipeline = pipe)\n",
    "\n",
    "        if len(content) > 30000:\n",
    "            text_splitter = RecursiveCharacterTextSplitter(chunk_size = 15000, chunk_overlap = 500)\n",
    "            split_docs = text_splitter.create_documents([content])\n",
    "            print(f\"Article is splitted into {len(split_docs)} chunks\")\n",
    "            \n",
    "            map_prompt_template = \"Summarize the key points of this text chunk:\\n\\n{text}\\n\\nCONCISE SUMMARY:\"\n",
    "            map_prompt = PromptTemplate.from_template(map_prompt_template)\n",
    "            combine_prompt_template = \"You are a newsletter editor. Combine these summaries into one cohesive, final summary. The final summary should be engaging and between 500 and 1000 words.\\n\\nSUMMARIES:\\n{text}\\n\\nFINAL SUMMARY:\"\n",
    "            combine_prompt = PromptTemplate.from_template(combine_prompt_template)\n",
    "            \n",
    "            summary_chain = load_summarize_chain(llm = llm, \n",
    "                                                 chain_type = \"map_reduce\",\n",
    "                                                 map_prompt = map_prompt,\n",
    "                                                 combine_prompt = combine_prompt,\n",
    "                                                 verbose = True\n",
    "                                                )\n",
    "            \n",
    "            summary = summary_chain.invoke(split_docs)['output_text']\n",
    "\n",
    "        else:\n",
    "            docs = [Document(page_content = content)]\n",
    "            \n",
    "            prompt_template = \"You are a newsletter editor. Write a cohesive, final summary of the following text. The final summary should be engaging and between 500 and 1000 words.\\n\\nTEXT:\\n{text}\\n\\nFINAL SUMMARY:\"\n",
    "            prompt = PromptTemplate.from_template(prompt_template)\n",
    "            \n",
    "            summary_chain = load_summarize_chain(llm=llm,\n",
    "                                                 chain_type=\"stuff\",\n",
    "                                                 prompt=prompt)\n",
    "            summary = summary_chain.invoke(docs)['output_text']\n",
    "\n",
    "        summary_clean = summary.split(\"FINAL SUMMARY:\")[-1].strip()\n",
    "        \n",
    "        with open(summary_path, 'w', encoding=\"utf-8\") as f:\n",
    "            f.write(summary_clean)\n",
    "\n",
    "        print(f\"Full Summary saved to {summary_path}\")\n",
    "\n",
    "        print(\"Step 3 initialized. Generating title\")\n",
    "\n",
    "        title_messages = [\n",
    "            {\"role\": \"user\", \"content\": f\"Based on this summary, generate only one extremely catchy but concise newsletter title. The title must be under 12 words.\\n\\nSUMMARY:\\n{summary}\"}\n",
    "        ]\n",
    "\n",
    "        title_outputs = pipe(title_messages, max_new_tokens = 50)\n",
    "\n",
    "        generated_title = title_outputs[0]['generated_text'][-1]['content']\n",
    "        final_title = generated_title.strip().split('\\n')[0].strip().lstrip('1234567890.-* ')\n",
    "        \n",
    "        with open(title_path, 'w', encoding=\"utf-8\") as f:\n",
    "            f.write(final_title)\n",
    "\n",
    "        print(f\"title saved to {title_path}\")\n",
    "\n",
    "        print(\"Step 4 initialized. Generating image prompt\")\n",
    "\n",
    "        prompt_messages = [{\"role\": \"user\", \"content\": f\"Based on the following text, create a short, visually descriptive prompt for an AI image generator. Focus on concrete objects, scenes, colors, and styles. Do not include abstract concepts. Maximum 60 words.\\n\\nTEXT:\\n{summary}\"}]\n",
    "        prompt_outputs = pipe(prompt_messages, max_new_tokens=100)\n",
    "        generated_prompt = prompt_outputs[0]['generated_text'][-1]['content']\n",
    "        final_image_prompt = generated_prompt.strip().replace('\"', '')\n",
    "        \n",
    "        with open(image_prompt_path, \"w\", encoding=\"utf-8\") as f:\n",
    "            f.write(final_image_prompt) \n",
    "\n",
    "        print(f\"image prompt saved to {image_prompt_path}\")\n",
    "        return summary, final_title, final_image_prompt\n",
    "\n",
    "    finally:\n",
    "        print(\"Cleaning up summarization model from memory\")\n",
    "        del model\n",
    "        del tokenizer\n",
    "        del pipe\n",
    "        del llm\n",
    "        clear_memory()"
   ]
  },
  {
   "cell_type": "code",
   "execution_count": null,
   "metadata": {},
   "outputs": [],
   "source": [
    "# def generate_title_and_prompt(summary_path = \"summary.txt\", title_path = \"title.txt\", image_prompt_path = \"image_prompt.txt\"):\n",
    "#     print(\"Step 3 initialized. Generating title\")\n",
    "\n",
    "#     gen_model = None\n",
    "#     gen_tokenizer = None\n",
    "#     gen_pipe = None\n",
    "    \n",
    "#     try:\n",
    "# #Title Part\n",
    "#         with open(summary_path, 'r', encoding=\"utf-8\") as f:\n",
    "#             summary_clean = f.read()\n",
    "\n",
    "#         gen_tokenizer = AutoTokenizer.from_pretrained(path_phi3,\n",
    "#                                                       local_files_only=True,\n",
    "#                                                       trust_remote_code=True)\n",
    "#         gen_model = AutoModelForCausalLM.from_pretrained(path_phi3,\n",
    "#                                                          local_files_only=True,\n",
    "#                                                          trust_remote_code=True, \n",
    "#                                                          device_map=\"auto\", \n",
    "#                                                          torch_dtype=\"auto\", \n",
    "#                                                          load_in_8bit=(device == \"cuda\")\n",
    "#                                                         )\n",
    "#         gen_pipe = pipeline(\"text-generation\", \n",
    "#                         model = gen_model, \n",
    "#                         tokenizer = gen_tokenizer,\n",
    "#                         max_new_tokens = 80,\n",
    "#                         eos_token_id = gen_tokenizer.eos_token_id\n",
    "#                        )\n",
    "\n",
    "#         title_messages = [\n",
    "#             {\"role\": \"user\", \"content\": f\"Based on this summary, generate only one extremely catchy but concise newsletter title. The title must be under 12 words.\\n\\nSUMMARY:\\n{summary_clean}\"}\n",
    "#         ]\n",
    "\n",
    "#         title_outputs = gen_pipe(title_messages, max_new_tokens = 30)\n",
    "\n",
    "#         generated_title = title_outputs[0]['generated_text'][-1]['content']\n",
    "#         final_title = generated_title.strip().split('\\n')[0].strip().lstrip('1234567890.-* ')\n",
    "        \n",
    "#         with open(title_path, 'w', encoding=\"utf-8\") as f:\n",
    "#             f.write(final_title)\n",
    "\n",
    "#         print(f\"title saved to {title_path}\")\n",
    "\n",
    "# #Image prompt Part        \n",
    "#         print(\"Step 4 initialized. Generating image prompt\")\n",
    "\n",
    "#         prompt_messages = [{\"role\": \"user\", \"content\": f\"Based on the following text, create a short, visually descriptive prompt for an AI image generator. Focus on concrete objects, scenes, colors, and styles. Do not include abstract concepts. Maximum 60 words.\\n\\nTEXT:\\n{summary_clean}\"}]\n",
    "#         prompt_outputs = gen_pipe(prompt_messages, max_new_tokens=80)\n",
    "#         generated_prompt = prompt_outputs[0]['generated_text'][-1]['content']\n",
    "#         final_image_prompt = generated_prompt.strip().replace('\"', '')\n",
    "        \n",
    "#         with open(image_prompt_path, \"w\", encoding=\"utf-8\") as f:\n",
    "#             f.write(final_image_prompt) \n",
    "\n",
    "#         print(f\"image prompt saved to {image_prompt_path}\")\n",
    "\n",
    "#         return final_title, final_image_prompt\n",
    "#     finally:\n",
    "#         print(\"Cleaning up title gen model from memory\")\n",
    "#         del gen_model\n",
    "#         del gen_tokenizer\n",
    "#         del gen_pipe\n",
    "#         clear_memory()"
   ]
  },
  {
   "cell_type": "code",
   "execution_count": null,
   "metadata": {
    "execution": {
     "iopub.execute_input": "2025-09-07T16:08:50.952625Z",
     "iopub.status.busy": "2025-09-07T16:08:50.952365Z",
     "iopub.status.idle": "2025-09-07T16:08:50.958240Z",
     "shell.execute_reply": "2025-09-07T16:08:50.957492Z",
     "shell.execute_reply.started": "2025-09-07T16:08:50.952606Z"
    },
    "trusted": true
   },
   "outputs": [],
   "source": [
    "def generate_newsletter_image(image_prompt_path = \"image_prompt.txt\", title_path = \"title.txt\", image_path = \"newsletter_image.png\"):\n",
    "    print(\"\\nStep 5 initialized, Generating image for newsletter\")\n",
    "\n",
    "    pipe = None\n",
    "    \n",
    "    try:\n",
    "        with open(image_prompt_path, 'r', encoding=\"utf-8\") as f:\n",
    "            visual_prompt = f.read().strip()\n",
    "        with open(title_path, 'r', encoding=\"utf-8\") as f:\n",
    "            title = f.read().strip()\n",
    "\n",
    "        final_prompt = f\"Image for a newsletter titled '{title}'. A clean, professional illustration of: {visual_prompt}. Marketing aesthetic, vibrant colors.\"\n",
    "        \n",
    "        pipe = DiffusionPipeline.from_pretrained(\n",
    "            path_sd,\n",
    "            torch_dtype = torch.float16,\n",
    "            variant = \"fp16\",\n",
    "            use_safetensors = True\n",
    "        )\n",
    "\n",
    "        pipe = pipe.to(device)\n",
    "\n",
    "        image = pipe(prompt = final_prompt).images[0]\n",
    "        image.save(image_path)\n",
    "        print(f\"Image saved to {image_path}\")\n",
    "\n",
    "        return image_path\n",
    "\n",
    "    finally:\n",
    "        print(\"Cleaning up diffusion model from memory\")\n",
    "        \n",
    "        if 'pipe' in locals() and pipe is not None:\n",
    "            del pipe\n",
    "\n",
    "        clear_memory()"
   ]
  },
  {
   "cell_type": "code",
   "execution_count": null,
   "metadata": {
    "execution": {
     "iopub.execute_input": "2025-09-07T16:08:53.044452Z",
     "iopub.status.busy": "2025-09-07T16:08:53.043740Z",
     "iopub.status.idle": "2025-09-07T16:08:53.049523Z",
     "shell.execute_reply": "2025-09-07T16:08:53.048791Z",
     "shell.execute_reply.started": "2025-09-07T16:08:53.044425Z"
    },
    "trusted": true
   },
   "outputs": [],
   "source": [
    "def assemble(summary_path, image_path, title_path, output_name=\"newsletter\"):\n",
    "    print(\"Step 4 initialized, Assembling final Newsletter\")\n",
    "\n",
    "    try:\n",
    "        with open(summary_path, 'r', encoding=\"utf-8\") as f:\n",
    "            summary_text = f.read()\n",
    "        with open(title_path, 'r', encoding=\"utf-8\") as f:\n",
    "            title = f.read().strip()\n",
    "\n",
    "        mid = len(summary_text) // 2\n",
    "        split_point = summary_text.find(' ', mid)\n",
    "\n",
    "        if split_point == -1:\n",
    "            split_point = mid\n",
    "\n",
    "        summary_left = summary_text[:split_point]\n",
    "        summary_right = summary_text[split_point:].strip()\n",
    "\n",
    "        template = Environment().from_string(HTML_TEMPLATE_STRING)\n",
    "\n",
    "        html_content = template.render(\n",
    "            title = title,\n",
    "            summary_left = summary_left,\n",
    "            summary_right = summary_right,\n",
    "            image_file = image_path\n",
    "        )\n",
    "\n",
    "        html_file_path = f\"{output_name}.html\"\n",
    "\n",
    "        with open(html_file_path, 'w', encoding=\"utf-8\") as f:\n",
    "            f.write(html_content)\n",
    "\n",
    "        print(f\"HTML Newsletter saved to {html_file_path}\")\n",
    "\n",
    "    except Exception as e:\n",
    "        print(f\"An error occured during assembly= {e}\")"
   ]
  },
  {
   "cell_type": "code",
   "execution_count": 30,
   "metadata": {
    "execution": {
     "iopub.execute_input": "2025-09-07T16:08:54.301404Z",
     "iopub.status.busy": "2025-09-07T16:08:54.301131Z",
     "iopub.status.idle": "2025-09-07T16:13:24.387019Z",
     "shell.execute_reply": "2025-09-07T16:13:24.386214Z",
     "shell.execute_reply.started": "2025-09-07T16:08:54.301385Z"
    },
    "trusted": true
   },
   "outputs": [
    {
     "name": "stdout",
     "output_type": "stream",
     "text": [
      "Starting automated Newsletter Generation\n",
      "Step 1 initialized, Scraping content from the link\n"
     ]
    },
    {
     "name": "stderr",
     "output_type": "stream",
     "text": [
      "Special tokens have been added in the vocabulary, make sure the associated word embeddings are fine-tuned or trained.\n"
     ]
    },
    {
     "name": "stdout",
     "output_type": "stream",
     "text": [
      "Content saved to content.txt\n",
      "\n",
      "Step 2 initialized, Summarizing content\n"
     ]
    },
    {
     "name": "stderr",
     "output_type": "stream",
     "text": [
      "The `load_in_4bit` and `load_in_8bit` arguments are deprecated and will be removed in the future versions. Please, pass a `BitsAndBytesConfig` object in `quantization_config` argument instead.\n"
     ]
    },
    {
     "data": {
      "application/vnd.jupyter.widget-view+json": {
       "model_id": "98d67a8752a24d63bc70aad3b52fb273",
       "version_major": 2,
       "version_minor": 0
      },
      "text/plain": [
       "Loading checkpoint shards:   0%|          | 0/2 [00:00<?, ?it/s]"
      ]
     },
     "metadata": {},
     "output_type": "display_data"
    },
    {
     "name": "stdout",
     "output_type": "stream",
     "text": [
      "Full Summary saved to summary.txt\n",
      "Step 3 initialized. Generating title\n",
      "title saved to title.txt\n",
      "Step 4 initialized. Generating image prompt\n",
      "image prompt saved to image_prompt.txt\n",
      "Cleaning up summarization model from memory\n",
      "\n",
      "Step 5 initialized, Generating image for newsletter\n"
     ]
    },
    {
     "name": "stderr",
     "output_type": "stream",
     "text": [
      "/usr/local/lib/python3.11/dist-packages/huggingface_hub/file_download.py:1132: FutureWarning: `resume_download` is deprecated and will be removed in version 1.0.0. Downloads always resume when possible. If you want to force a new download, use `force_download=True`.\n",
      "  warnings.warn(\n"
     ]
    },
    {
     "data": {
      "application/vnd.jupyter.widget-view+json": {
       "model_id": "e200e3e6a1484609bb1e34912780c0d8",
       "version_major": 2,
       "version_minor": 0
      },
      "text/plain": [
       "Loading pipeline components...:   0%|          | 0/7 [00:00<?, ?it/s]"
      ]
     },
     "metadata": {},
     "output_type": "display_data"
    },
    {
     "name": "stderr",
     "output_type": "stream",
     "text": [
      "Token indices sequence length is longer than the specified maximum sequence length for this model (102 > 77). Running this sequence through the model will result in indexing errors\n",
      "The following part of your input was truncated because CLIP can only handle sequences up to 77 tokens: ['people conversing amiably inside coffee houses accompanied by warm amber neon signs proclaiming wholehe. marketing aesthetic, vibrant colors.']\n",
      "Token indices sequence length is longer than the specified maximum sequence length for this model (102 > 77). Running this sequence through the model will result in indexing errors\n",
      "The following part of your input was truncated because CLIP can only handle sequences up to 77 tokens: ['people conversing amiably inside coffee houses accompanied by warm amber neon signs proclaiming wholehe. marketing aesthetic, vibrant colors.']\n"
     ]
    },
    {
     "data": {
      "application/vnd.jupyter.widget-view+json": {
       "model_id": "24d72ace900848eba94ee20fe3309d77",
       "version_major": 2,
       "version_minor": 0
      },
      "text/plain": [
       "  0%|          | 0/50 [00:00<?, ?it/s]"
      ]
     },
     "metadata": {},
     "output_type": "display_data"
    },
    {
     "name": "stdout",
     "output_type": "stream",
     "text": [
      "Image saved to newsletter_image.png\n",
      "Cleaning up diffusion model from memory\n",
      "Step 4 initialized, Assembling final Newsletter\n",
      "HTML Newsletter saved to newsletter.html\n",
      "\n",
      " Pipeline ended, newsletter is created in kaggle/working/ folder\n"
     ]
    }
   ],
   "source": [
    "def run_full_pipeline(url):\n",
    "    print(\"Starting automated Newsletter Generation\")\n",
    "\n",
    "    content_file = \"content.txt\"\n",
    "    summary_file = \"summary.txt\"\n",
    "    title_file = \"title.txt\"\n",
    "    image_prompt_file = \"image_prompt.txt\"\n",
    "    image_file = \"newsletter_image.png\"\n",
    "\n",
    "    scrape_from_web(url, content_file)\n",
    "    summarize(content_file, summary_file, title_file, image_prompt_file)\n",
    "    generate_newsletter_image(image_prompt_file, title_file, image_file)\n",
    "    assemble(summary_file, image_file, title_file)\n",
    "\n",
    "    print(\"\\n Pipeline ended, newsletter is created in kaggle/working/ folder\")\n",
    "\n",
    "article_url = \"https://www.theverge.com/24172762/sonos-ace-headphones-video-review\"\n",
    "run_full_pipeline(article_url)"
   ]
  },
  {
   "cell_type": "code",
   "execution_count": null,
   "metadata": {
    "trusted": true
   },
   "outputs": [],
   "source": []
  }
 ],
 "metadata": {
  "kaggle": {
   "accelerator": "nvidiaTeslaT4",
   "dataSources": [],
   "dockerImageVersionId": 31090,
   "isGpuEnabled": true,
   "isInternetEnabled": true,
   "language": "python",
   "sourceType": "notebook"
  },
  "kernelspec": {
   "display_name": "Python 3",
   "language": "python",
   "name": "python3"
  },
  "language_info": {
   "codemirror_mode": {
    "name": "ipython",
    "version": 3
   },
   "file_extension": ".py",
   "mimetype": "text/x-python",
   "name": "python",
   "nbconvert_exporter": "python",
   "pygments_lexer": "ipython3",
   "version": "3.11.13"
  }
 },
 "nbformat": 4,
 "nbformat_minor": 4
}
